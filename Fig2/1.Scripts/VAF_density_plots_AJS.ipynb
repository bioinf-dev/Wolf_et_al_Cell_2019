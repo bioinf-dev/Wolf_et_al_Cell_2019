{
 "cells": [
  {
   "cell_type": "markdown",
   "metadata": {},
   "source": [
    "# Variant Allele Frequency density plots"
   ]
  },
  {
   "cell_type": "markdown",
   "metadata": {},
   "source": [
    "### This code is made for plotting the variant allele frequency of mutations and distinguish clonal and subclonal mutations\n",
    "#### Input: MAF files\n",
    "#### Output: PDF plots"
   ]
  },
  {
   "cell_type": "markdown",
   "metadata": {},
   "source": [
    "### Import packages"
   ]
  },
  {
   "cell_type": "code",
   "execution_count": 1,
   "metadata": {},
   "outputs": [],
   "source": [
    "import pandas as pd\n",
    "import seaborn as sns\n",
    "import matplotlib.pyplot as plt\n",
    "import numpy as np\n",
    "import math"
   ]
  },
  {
   "cell_type": "code",
   "execution_count": 2,
   "metadata": {},
   "outputs": [],
   "source": [
    "import warnings\n",
    "warnings.filterwarnings('ignore')"
   ]
  },
  {
   "cell_type": "markdown",
   "metadata": {},
   "source": [
    "### Load data (MAF files)"
   ]
  },
  {
   "cell_type": "code",
   "execution_count": 3,
   "metadata": {},
   "outputs": [],
   "source": [
    "# Add as many maf files as required\n",
    "\n",
    "c1 = pd.read_csv('../0.Data/clone1.maf', sep='\\t', skiprows=0)\n",
    "c2 = pd.read_csv('../0.Data/clone2.maf', sep='\\t', skiprows=0)\n",
    "parental = pd.read_csv('../0.Data/Parental.maf', sep='\\t', skiprows=0)\n",
    "uvb = pd.read_csv('../0.Data/UVB.maf', sep='\\t', skiprows=0)"
   ]
  },
  {
   "cell_type": "code",
   "execution_count": 4,
   "metadata": {},
   "outputs": [
    {
     "data": {
      "text/plain": [
       "array(['Hugo_Symbol', 'Entrez_Gene_Id', 'Center', 'NCBI_Build',\n",
       "       'Chromosome', 'Start_position', 'End_position', 'Strand',\n",
       "       'Variant_Classification', 'Variant_Type', 'Reference_Allele',\n",
       "       'Tumor_Seq_Allele1', 'Tumor_Seq_Allele2', 'dbSNP_RS',\n",
       "       'dbSNP_Val_Status', 'Tumor_Sample_Barcode',\n",
       "       'Matched_Norm_Sample_Barcode', 'Match_Norm_Seq_Allele1',\n",
       "       'Match_Norm_Seq_Allele2', 'Tumor_Validation_Allele1',\n",
       "       'Tumor_Validation_Allele2', 'Match_Norm_Validation_Allele1',\n",
       "       'Match_Norm_Validation_Allele2', 'Verification_Status',\n",
       "       'Validation_Status', 'Mutation_Status', 'Sequencing_Phase',\n",
       "       'Sequence_Source', 'Validation_Method', 'Score', 'BAM_File',\n",
       "       'Sequencer', 'Tumor_Sample_UUID', 'Matched_Norm_Sample_UUID',\n",
       "       'HGVSc', 'HGVSp', 'HGVSp_Short', 'Transcript_ID', 'Exon_Number',\n",
       "       't_depth', 't_ref_count', 't_alt_count', 't_vaf', 'n_depth',\n",
       "       'n_ref_count', 'n_alt_count', 'all_effects', 'Allele', 'Gene',\n",
       "       'Feature', 'Feature_type', 'Consequence', 'cDNA_position',\n",
       "       'CDS_position', 'Protein_position', 'Amino_acids', 'Codons',\n",
       "       'Existing_variation', 'ALLELE_NUM', 'DISTANCE', 'STRAND_VEP',\n",
       "       'SYMBOL', 'SYMBOL_SOURCE', 'HGNC_ID', 'BIOTYPE', 'CANONICAL',\n",
       "       'CCDS', 'ENSP', 'SWISSPROT', 'TREMBL', 'UNIPARC', 'RefSeq', 'SIFT',\n",
       "       'PolyPhen', 'EXON', 'INTRON', 'DOMAINS', 'GMAF', 'AFR_MAF',\n",
       "       'AMR_MAF', 'ASN_MAF', 'EAS_MAF', 'EUR_MAF', 'SAS_MAF', 'AA_MAF',\n",
       "       'EA_MAF', 'CLIN_SIG', 'SOMATIC', 'PUBMED', 'MOTIF_NAME',\n",
       "       'MOTIF_POS', 'HIGH_INF_POS', 'MOTIF_SCORE_CHANGE', 'IMPACT',\n",
       "       'PICK', 'VARIANT_CLASS', 'TSL', 'HGVS_OFFSET', 'PHENO',\n",
       "       'MINIMISED', 'ExAC_AF', 'ExAC_AF_AFR', 'ExAC_AF_AMR',\n",
       "       'ExAC_AF_EAS', 'ExAC_AF_FIN', 'ExAC_AF_NFE', 'ExAC_AF_OTH',\n",
       "       'ExAC_AF_SAS', 'GENE_PHENO', 'FILTER', 'flanking_bps',\n",
       "       'variant_id', 'variant_qual', 'ExAC_AF_Adj', 'ExAC_AC_AN_Adj',\n",
       "       'ExAC_AC_AN', 'ExAC_AC_AN_AFR', 'ExAC_AC_AN_AMR', 'ExAC_AC_AN_EAS',\n",
       "       'ExAC_AC_AN_FIN', 'ExAC_AC_AN_NFE', 'ExAC_AC_AN_OTH',\n",
       "       'ExAC_AC_AN_SAS', 'ExAC_FILTER'], dtype=object)"
      ]
     },
     "execution_count": 4,
     "metadata": {},
     "output_type": "execute_result"
    }
   ],
   "source": [
    "c1.columns.values"
   ]
  },
  {
   "cell_type": "markdown",
   "metadata": {},
   "source": [
    "### Keep only exonic mutations (NOTE: Skip this to show small peak at 0.5)"
   ]
  },
  {
   "cell_type": "code",
   "execution_count": 5,
   "metadata": {},
   "outputs": [],
   "source": [
    "# exonic mutations\n",
    "mut_types = ['Missense_Mutation','Silent','Nonstop_Mutation',\n",
    "             'Nonsense_Mutation','In_Frame_Ins','Frame_Shift_Ins',\n",
    "             'In_Frame_Del','Frame_Shift_Del']\n",
    "\n",
    "c1 = c1[c1.Variant_Classification.isin(mut_types)]\n",
    "c2 = c2[c2.Variant_Classification.isin(mut_types)]\n",
    "parental = parental[parental.Variant_Classification.isin(mut_types)]\n",
    "uvb = uvb[uvb.Variant_Classification.isin(mut_types)]"
   ]
  },
  {
   "cell_type": "markdown",
   "metadata": {},
   "source": [
    "### Keep only genes with 10 or more reads"
   ]
  },
  {
   "cell_type": "code",
   "execution_count": 6,
   "metadata": {},
   "outputs": [],
   "source": [
    "c1 = c1[c1['t_depth'] >= 10]\n",
    "c2 = c2[c2['t_depth'] >= 10]\n",
    "parental = parental[parental['t_depth'] >= 10]\n",
    "uvb = uvb[uvb['t_depth'] >= 10]"
   ]
  },
  {
   "cell_type": "markdown",
   "metadata": {},
   "source": [
    "### Plot VAF densities"
   ]
  },
  {
   "cell_type": "code",
   "execution_count": 7,
   "metadata": {},
   "outputs": [],
   "source": [
    "mafs = [c1, c2, parental, uvb]"
   ]
  },
  {
   "cell_type": "code",
   "execution_count": 8,
   "metadata": {},
   "outputs": [],
   "source": [
    "vafs = {}\n",
    "for i, maf in enumerate(mafs):\n",
    "    maf = maf[maf.Variant_Classification.isin(mut_types)] # Comment this out to show peak at 0.5\n",
    "    vaf = [maf['t_vaf'][j] for j in maf.index if maf['t_depth'][j] >= 10]\n",
    "    vafs[i+1] = pd.Series([v for v in vaf if math.isnan(v) is False])"
   ]
  },
  {
   "cell_type": "code",
   "execution_count": 9,
   "metadata": {},
   "outputs": [],
   "source": [
    "df_toplot = pd.DataFrame.from_dict(vafs) # PASS + 10"
   ]
  },
  {
   "cell_type": "markdown",
   "metadata": {},
   "source": [
    "### Linear densities"
   ]
  },
  {
   "cell_type": "code",
   "execution_count": 10,
   "metadata": {},
   "outputs": [
    {
     "data": {
      "image/png": "[encoded data removed]",
      "text/plain": [
       "<Figure size 432x288 with 1 Axes>"
      ]
     },
     "metadata": {},
     "output_type": "display_data"
    }
   ],
   "source": [
    "ax = df_toplot.plot(kind='kde')"
   ]
  },
  {
   "cell_type": "code",
   "execution_count": 11,
   "metadata": {},
   "outputs": [
    {
     "data": {
      "text/html": [
       "<div>\n",
       "<style scoped>\n",
       "    .dataframe tbody tr th:only-of-type {\n",
       "        vertical-align: middle;\n",
       "    }\n",
       "\n",
       "    .dataframe tbody tr th {\n",
       "        vertical-align: top;\n",
       "    }\n",
       "\n",
       "    .dataframe thead th {\n",
       "        text-align: right;\n",
       "    }\n",
       "</style>\n",
       "<table border=\"1\" class=\"dataframe\">\n",
       "  <thead>\n",
       "    <tr style=\"text-align: right;\">\n",
       "      <th></th>\n",
       "      <th>1</th>\n",
       "      <th>2</th>\n",
       "      <th>3</th>\n",
       "      <th>4</th>\n",
       "    </tr>\n",
       "  </thead>\n",
       "  <tbody>\n",
       "    <tr>\n",
       "      <th>0</th>\n",
       "      <td>0.540000</td>\n",
       "      <td>0.666667</td>\n",
       "      <td>0.031390</td>\n",
       "      <td>0.011583</td>\n",
       "    </tr>\n",
       "    <tr>\n",
       "      <th>1</th>\n",
       "      <td>0.588235</td>\n",
       "      <td>0.212121</td>\n",
       "      <td>0.057971</td>\n",
       "      <td>0.058140</td>\n",
       "    </tr>\n",
       "    <tr>\n",
       "      <th>2</th>\n",
       "      <td>0.333333</td>\n",
       "      <td>0.294118</td>\n",
       "      <td>0.024561</td>\n",
       "      <td>0.049020</td>\n",
       "    </tr>\n",
       "    <tr>\n",
       "      <th>3</th>\n",
       "      <td>0.260870</td>\n",
       "      <td>0.304000</td>\n",
       "      <td>0.032710</td>\n",
       "      <td>0.204301</td>\n",
       "    </tr>\n",
       "    <tr>\n",
       "      <th>4</th>\n",
       "      <td>0.024691</td>\n",
       "      <td>0.375000</td>\n",
       "      <td>0.037464</td>\n",
       "      <td>0.020492</td>\n",
       "    </tr>\n",
       "  </tbody>\n",
       "</table>\n",
       "</div>"
      ],
      "text/plain": [
       "          1         2         3         4\n",
       "0  0.540000  0.666667  0.031390  0.011583\n",
       "1  0.588235  0.212121  0.057971  0.058140\n",
       "2  0.333333  0.294118  0.024561  0.049020\n",
       "3  0.260870  0.304000  0.032710  0.204301\n",
       "4  0.024691  0.375000  0.037464  0.020492"
      ]
     },
     "execution_count": 11,
     "metadata": {},
     "output_type": "execute_result"
    }
   ],
   "source": [
    "df_toplot.head()"
   ]
  },
  {
   "cell_type": "code",
   "execution_count": 12,
   "metadata": {},
   "outputs": [],
   "source": [
    "fig = ax.get_figure()"
   ]
  },
  {
   "cell_type": "code",
   "execution_count": null,
   "metadata": {},
   "outputs": [],
   "source": [
    "fig.savefig('Linear_VAF_densitites.pdf', bbox_inches='tight')"
   ]
  },
  {
   "cell_type": "markdown",
   "metadata": {},
   "source": [
    "### Log2 densities"
   ]
  },
  {
   "cell_type": "code",
   "execution_count": 13,
   "metadata": {},
   "outputs": [
    {
     "data": {
      "image/png": "[encoded data removed]",
      "text/plain": [
       "<Figure size 432x288 with 1 Axes>"
      ]
     },
     "metadata": {},
     "output_type": "display_data"
    }
   ],
   "source": [
    "ax2 = df_toplot.apply(np.log2).plot(kind='kde')\n",
    "ax2 = plt.axvline(x=np.log2(1))\n",
    "ax2 = plt.axvline(x=np.log2(0.5))\n",
    "ax2 = plt.axvline(x=np.log2(0.4))\n",
    "ax2 = plt.axvline(x=np.log2(0.3))\n",
    "ax2 = plt.axvline(x=np.log2(0.25), c='r')\n",
    "ax2 = plt.axvline(x=np.log2(0.2))\n",
    "ax2 = plt.axvline(x=np.log2(0.1))"
   ]
  },
  {
   "cell_type": "code",
   "execution_count": 14,
   "metadata": {},
   "outputs": [],
   "source": [
    "fig2 = ax2.get_figure()"
   ]
  },
  {
   "cell_type": "code",
   "execution_count": null,
   "metadata": {},
   "outputs": [],
   "source": [
    "fig2.savefig('/Users/jimene01/Downloads/to_Alejandro/Log2_VAF_densitites_all.pdf', bbox_inches='tight')"
   ]
  },
  {
   "cell_type": "markdown",
   "metadata": {},
   "source": [
    "## Fraction of \"clonal\" and \"subclonal\" mutations"
   ]
  },
  {
   "cell_type": "code",
   "execution_count": 17,
   "metadata": {},
   "outputs": [
    {
     "data": {
      "text/html": [
       "<div>\n",
       "<style scoped>\n",
       "    .dataframe tbody tr th:only-of-type {\n",
       "        vertical-align: middle;\n",
       "    }\n",
       "\n",
       "    .dataframe tbody tr th {\n",
       "        vertical-align: top;\n",
       "    }\n",
       "\n",
       "    .dataframe thead th {\n",
       "        text-align: right;\n",
       "    }\n",
       "</style>\n",
       "<table border=\"1\" class=\"dataframe\">\n",
       "  <thead>\n",
       "    <tr style=\"text-align: right;\">\n",
       "      <th></th>\n",
       "      <th>1</th>\n",
       "      <th>2</th>\n",
       "      <th>3</th>\n",
       "      <th>4</th>\n",
       "    </tr>\n",
       "  </thead>\n",
       "  <tbody>\n",
       "    <tr>\n",
       "      <th>0</th>\n",
       "      <td>0.540000</td>\n",
       "      <td>0.666667</td>\n",
       "      <td>0.031390</td>\n",
       "      <td>0.011583</td>\n",
       "    </tr>\n",
       "    <tr>\n",
       "      <th>1</th>\n",
       "      <td>0.588235</td>\n",
       "      <td>0.212121</td>\n",
       "      <td>0.057971</td>\n",
       "      <td>0.058140</td>\n",
       "    </tr>\n",
       "    <tr>\n",
       "      <th>2</th>\n",
       "      <td>0.333333</td>\n",
       "      <td>0.294118</td>\n",
       "      <td>0.024561</td>\n",
       "      <td>0.049020</td>\n",
       "    </tr>\n",
       "    <tr>\n",
       "      <th>3</th>\n",
       "      <td>0.260870</td>\n",
       "      <td>0.304000</td>\n",
       "      <td>0.032710</td>\n",
       "      <td>0.204301</td>\n",
       "    </tr>\n",
       "    <tr>\n",
       "      <th>4</th>\n",
       "      <td>0.024691</td>\n",
       "      <td>0.375000</td>\n",
       "      <td>0.037464</td>\n",
       "      <td>0.020492</td>\n",
       "    </tr>\n",
       "  </tbody>\n",
       "</table>\n",
       "</div>"
      ],
      "text/plain": [
       "          1         2         3         4\n",
       "0  0.540000  0.666667  0.031390  0.011583\n",
       "1  0.588235  0.212121  0.057971  0.058140\n",
       "2  0.333333  0.294118  0.024561  0.049020\n",
       "3  0.260870  0.304000  0.032710  0.204301\n",
       "4  0.024691  0.375000  0.037464  0.020492"
      ]
     },
     "execution_count": 17,
     "metadata": {},
     "output_type": "execute_result"
    }
   ],
   "source": [
    "df_toplot.head()"
   ]
  },
  {
   "cell_type": "code",
   "execution_count": 15,
   "metadata": {},
   "outputs": [
    {
     "data": {
      "text/plain": [
       "True     0.9\n",
       "False    0.1\n",
       "Name: 1, dtype: float64"
      ]
     },
     "execution_count": 15,
     "metadata": {},
     "output_type": "execute_result"
    }
   ],
   "source": [
    "(df_toplot[1].dropna() > 0.25).value_counts(normalize=True)"
   ]
  },
  {
   "cell_type": "code",
   "execution_count": 16,
   "metadata": {},
   "outputs": [
    {
     "data": {
      "text/plain": [
       "True     0.829268\n",
       "False    0.170732\n",
       "Name: 2, dtype: float64"
      ]
     },
     "execution_count": 16,
     "metadata": {},
     "output_type": "execute_result"
    }
   ],
   "source": [
    "(df_toplot[2].dropna() > 0.25).value_counts(normalize=True)"
   ]
  },
  {
   "cell_type": "code",
   "execution_count": 18,
   "metadata": {},
   "outputs": [
    {
     "data": {
      "text/plain": [
       "False    0.888889\n",
       "True     0.111111\n",
       "Name: 3, dtype: float64"
      ]
     },
     "execution_count": 18,
     "metadata": {},
     "output_type": "execute_result"
    }
   ],
   "source": [
    "(df_toplot[3].dropna() > 0.25).value_counts(normalize=True)"
   ]
  },
  {
   "cell_type": "code",
   "execution_count": 19,
   "metadata": {},
   "outputs": [
    {
     "data": {
      "text/plain": [
       "False    0.940299\n",
       "True     0.059701\n",
       "Name: 4, dtype: float64"
      ]
     },
     "execution_count": 19,
     "metadata": {},
     "output_type": "execute_result"
    }
   ],
   "source": [
    "(df_toplot[4].dropna() > 0.25).value_counts(normalize=True)"
   ]
  },
  {
   "cell_type": "markdown",
   "metadata": {},
   "source": [
    "### End of script"
   ]
  }
 ],
 "metadata": {
  "kernelspec": {
   "display_name": "Python 3",
   "language": "python",
   "name": "python3"
  },
  "language_info": {
   "codemirror_mode": {
    "name": "ipython",
    "version": 3
   },
   "file_extension": ".py",
   "mimetype": "text/x-python",
   "name": "python",
   "nbconvert_exporter": "python",
   "pygments_lexer": "ipython3",
   "version": "3.6.8"
  }
 },
 "nbformat": 4,
 "nbformat_minor": 2
}
